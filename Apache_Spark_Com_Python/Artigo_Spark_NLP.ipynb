{
  "cells": [
    {
      "cell_type": "markdown",
      "metadata": {
        "id": "ITPPLXWApwwK"
      },
      "source": [
        "# Instalando o Spark NLP e pyspark."
      ]
    },
    {
      "cell_type": "code",
      "execution_count": 17,
      "metadata": {
        "colab": {
          "base_uri": "https://localhost:8080/"
        },
        "id": "Nh5SmXsxqMFE",
        "outputId": "3a9a6975-7274-4b35-d0ff-a342830914b6"
      },
      "outputs": [],
      "source": [
        "!pip install -q pyspark==3.3.0 spark-nlp==4.0.1"
      ]
    },
    {
      "cell_type": "markdown",
      "metadata": {},
      "source": [
        "Criando uma sessão do Spark NLP:"
      ]
    },
    {
      "cell_type": "code",
      "execution_count": 18,
      "metadata": {
        "id": "GldhjBqFqhPU"
      },
      "outputs": [],
      "source": [
        "import sparknlp\n",
        "\n",
        "spark = sparknlp.start()"
      ]
    },
    {
      "cell_type": "markdown",
      "metadata": {
        "id": "vVccxRwHGv7z"
      },
      "source": [
        "# Criando um DataFrame"
      ]
    },
    {
      "cell_type": "code",
      "execution_count": 19,
      "metadata": {
        "id": "fyGke32lGpbu"
      },
      "outputs": [],
      "source": [
        "data = [(\"The Beatles\", \"There are places I'll remember \"+\n",
        "                        \"All my life though some have changed \"+\n",
        "                        \"Some forever, not for better \"+\n",
        "                        \"Some have gone and some remain\"),\n",
        "        (\"Oasis\", \"So I start a revolution from my bed \" + \n",
        "                  \"Cause you said the brains I had went to my head \" +\n",
        "                  \"Step outside, summertime's in bloom \"+\n",
        "                  \"Stand up beside the fireplace\"),\n",
        "        (\"Pink Floyd\", \"How I wish you were here \" +\n",
        "                        \"We're just two lost soul \" +\n",
        "                        \"Swimming in a fish bowl year after year \" + \n",
        "                        \"Running over the same old ground\")]\n",
        "\n",
        "df_musica = spark.createDataFrame(data, [\"artista\", \"letra\"])"
      ]
    },
    {
      "cell_type": "code",
      "execution_count": 20,
      "metadata": {
        "colab": {
          "base_uri": "https://localhost:8080/"
        },
        "id": "jYHER_u1yM4t",
        "outputId": "91083366-8a27-4e5a-93ad-1b9a343b831d"
      },
      "outputs": [
        {
          "name": "stdout",
          "output_type": "stream",
          "text": [
            "root\n",
            " |-- artista: string (nullable = true)\n",
            " |-- letra: string (nullable = true)\n",
            "\n"
          ]
        }
      ],
      "source": [
        "df_musica.printSchema()"
      ]
    },
    {
      "cell_type": "markdown",
      "metadata": {
        "id": "EZ2jBIlgKoij"
      },
      "source": [
        "# Trabalhando com a biblioteca"
      ]
    },
    {
      "cell_type": "code",
      "execution_count": 21,
      "metadata": {
        "id": "3xdxkwa0K2bo"
      },
      "outputs": [],
      "source": [
        "# Componentes spark-nlp. Cada um vai incorporar nosso pipeline.\n",
        "\n",
        "from sparknlp.annotator import LemmatizerModel, Stemmer, Tokenizer, StopWordsCleaner\n",
        "from sparknlp.base import DocumentAssembler"
      ]
    },
    {
      "cell_type": "markdown",
      "metadata": {
        "id": "Z-dTzxvZ-XF_"
      },
      "source": [
        "## [DocumentAssembler](https://nlp.johnsnowlabs.com/api/com/johnsnowlabs/nlp/DocumentAssembler)"
      ]
    },
    {
      "cell_type": "markdown",
      "metadata": {
        "id": "d-BV9rmCLw3f"
      },
      "source": [
        "Vamos agora começar a montar o pipeline para o tratamento dos dados.\n",
        "\n",
        "\n",
        "* `DocumentAssembler`: pega os dados de texto bruto e os converte em um formato que pode ser tokenizado, tornando-se um dos objetos que são nativos do **sparl-nlp*, o \"Document\";\n",
        "\n",
        "* `.setInputCol()`: define qual será a coluna de entrada do anotador;\n",
        "\n",
        "* `.setOutputCol()`: define qual será a coluna de saída. A coluna de saída de um anotador será a coluna de entrada no seu subsequente.\n"
      ]
    },
    {
      "cell_type": "code",
      "execution_count": 22,
      "metadata": {
        "colab": {
          "base_uri": "https://localhost:8080/"
        },
        "id": "1E51DugELfHR",
        "outputId": "05010e8f-cb27-486b-dabe-65b8968add7c"
      },
      "outputs": [
        {
          "name": "stdout",
          "output_type": "stream",
          "text": [
            "+-----------+-----------------------------------------------------------------------------------------------------------------------------------------------------+------------------------------------------------------------------------------------------------------------------------------------------------------------------------------------------------+\n",
            "|artista    |letra                                                                                                                                                |document                                                                                                                                                                                        |\n",
            "+-----------+-----------------------------------------------------------------------------------------------------------------------------------------------------+------------------------------------------------------------------------------------------------------------------------------------------------------------------------------------------------+\n",
            "|The Beatles|There are places I'll remember All my life though some have changed Some forever, not for better Some have gone and some remain                      |[{document, 0, 126, There are places I'll remember All my life though some have changed Some forever, not for better Some have gone and some remain, {sentence -> 0}, []}]                      |\n",
            "|Oasis      |So I start a revolution from my bed Cause you said the brains I had went to my head Step outside, summertime's in bloom Stand up beside the fireplace|[{document, 0, 148, So I start a revolution from my bed Cause you said the brains I had went to my head Step outside, summertime's in bloom Stand up beside the fireplace, {sentence -> 0}, []}]|\n",
            "|Pink Floyd |How I wish you were here We're just two lost soul Swimming in a fish bowl year after year Running over the same old ground                           |[{document, 0, 121, How I wish you were here We're just two lost soul Swimming in a fish bowl year after year Running over the same old ground, {sentence -> 0}, []}]                           |\n",
            "+-----------+-----------------------------------------------------------------------------------------------------------------------------------------------------+------------------------------------------------------------------------------------------------------------------------------------------------------------------------------------------------+\n",
            "\n"
          ]
        }
      ],
      "source": [
        "document_assembler = DocumentAssembler()\\\n",
        "                       .setInputCol(\"letra\")\\\n",
        "                       .setOutputCol(\"document\")\n",
        "\n",
        "doc_df = document_assembler.transform(df_musica)\n",
        "doc_df.show(truncate=False)"
      ]
    },
    {
      "cell_type": "code",
      "execution_count": 23,
      "metadata": {
        "colab": {
          "base_uri": "https://localhost:8080/"
        },
        "id": "h_qDCpX37NZc",
        "outputId": "f652f17e-887a-42ae-8d28-d194b006b004"
      },
      "outputs": [
        {
          "name": "stdout",
          "output_type": "stream",
          "text": [
            "root\n",
            " |-- artista: string (nullable = true)\n",
            " |-- letra: string (nullable = true)\n",
            " |-- document: array (nullable = true)\n",
            " |    |-- element: struct (containsNull = true)\n",
            " |    |    |-- annotatorType: string (nullable = true)\n",
            " |    |    |-- begin: integer (nullable = false)\n",
            " |    |    |-- end: integer (nullable = false)\n",
            " |    |    |-- result: string (nullable = true)\n",
            " |    |    |-- metadata: map (nullable = true)\n",
            " |    |    |    |-- key: string\n",
            " |    |    |    |-- value: string (valueContainsNull = true)\n",
            " |    |    |-- embeddings: array (nullable = true)\n",
            " |    |    |    |-- element: float (containsNull = false)\n",
            "\n"
          ]
        }
      ],
      "source": [
        "doc_df.printSchema()"
      ]
    },
    {
      "cell_type": "markdown",
      "metadata": {},
      "source": [
        "A nova coluna criada está em array do tipo struct e possui como parâmetros os valores mostrados acima. "
      ]
    },
    {
      "cell_type": "code",
      "execution_count": 24,
      "metadata": {},
      "outputs": [
        {
          "name": "stdout",
          "output_type": "stream",
          "text": [
            "+-------------+-----+---+--------------------+---------------+----------+\n",
            "|annotatorType|begin|end|              result|       metadata|embeddings|\n",
            "+-------------+-----+---+--------------------+---------------+----------+\n",
            "|     document|    0|126|There are places ...|{sentence -> 0}|        []|\n",
            "|     document|    0|148|So I start a revo...|{sentence -> 0}|        []|\n",
            "|     document|    0|121|How I wish you we...|{sentence -> 0}|        []|\n",
            "+-------------+-----+---+--------------------+---------------+----------+\n",
            "\n"
          ]
        }
      ],
      "source": [
        "import pyspark.sql.functions as F\n",
        "doc_df.withColumn(\"tmp\", F.explode(\"document\"))\\\n",
        "        .select(\"tmp.*\")\\\n",
        "        .show()"
      ]
    },
    {
      "cell_type": "code",
      "execution_count": 25,
      "metadata": {
        "colab": {
          "base_uri": "https://localhost:8080/"
        },
        "id": "5k8ZwRXc7XcU",
        "outputId": "f0e7775c-457c-419b-9026-10b825f19c35"
      },
      "outputs": [
        {
          "name": "stdout",
          "output_type": "stream",
          "text": [
            "+-------------------------------------------------------------------------------------------------------------------------------------------------------+\n",
            "|result                                                                                                                                                 |\n",
            "+-------------------------------------------------------------------------------------------------------------------------------------------------------+\n",
            "|[There are places I'll remember All my life though some have changed Some forever, not for better Some have gone and some remain]                      |\n",
            "|[So I start a revolution from my bed Cause you said the brains I had went to my head Step outside, summertime's in bloom Stand up beside the fireplace]|\n",
            "|[How I wish you were here We're just two lost soul Swimming in a fish bowl year after year Running over the same old ground]                           |\n",
            "+-------------------------------------------------------------------------------------------------------------------------------------------------------+\n",
            "\n"
          ]
        }
      ],
      "source": [
        "doc_df.select('document.result').show(truncate=False)"
      ]
    },
    {
      "cell_type": "markdown",
      "metadata": {
        "id": "7QDaulC3OOsI"
      },
      "source": [
        "## [Tokenizer](https://nlp.johnsnowlabs.com/docs/en/annotators#tokenizer)"
      ]
    },
    {
      "cell_type": "code",
      "execution_count": 26,
      "metadata": {
        "id": "rzcywFYvONZ3"
      },
      "outputs": [],
      "source": [
        "tokenizer = Tokenizer()\\\n",
        "              .setInputCols([\"document\"])\\\n",
        "              .setOutputCol(\"token\")      "
      ]
    },
    {
      "cell_type": "code",
      "execution_count": 27,
      "metadata": {
        "colab": {
          "base_uri": "https://localhost:8080/"
        },
        "id": "_bsSC8wY8Ivd",
        "outputId": "b50aff03-5190-4a70-b4ff-4a426cfb8fc6"
      },
      "outputs": [
        {
          "name": "stdout",
          "output_type": "stream",
          "text": [
            "+-------------------------------------------------------------------------------------------------------------------------------------------------------------------------------------+\n",
            "|result                                                                                                                                                                               |\n",
            "+-------------------------------------------------------------------------------------------------------------------------------------------------------------------------------------+\n",
            "|[There, are, places, I'll, remember, All, my, life, though, some, have, changed, Some, forever, ,, not, for, better, Some, have, gone, and, some, remain]                            |\n",
            "|[So, I, start, a, revolution, from, my, bed, Cause, you, said, the, brains, I, had, went, to, my, head, Step, outside, ,, summertime's, in, bloom, Stand, up, beside, the, fireplace]|\n",
            "|[How, I, wish, you, were, here, We're, just, two, lost, soul, Swimming, in, a, fish, bowl, year, after, year, Running, over, the, same, old, ground]                                 |\n",
            "+-------------------------------------------------------------------------------------------------------------------------------------------------------------------------------------+\n",
            "\n"
          ]
        }
      ],
      "source": [
        "token_df = tokenizer.fit(doc_df).transform(doc_df)\n",
        "\n",
        "token_df.select('token.result').show(truncate=False)"
      ]
    },
    {
      "cell_type": "code",
      "execution_count": 28,
      "metadata": {},
      "outputs": [
        {
          "name": "stdout",
          "output_type": "stream",
          "text": [
            "root\n",
            " |-- artista: string (nullable = true)\n",
            " |-- letra: string (nullable = true)\n",
            " |-- document: array (nullable = true)\n",
            " |    |-- element: struct (containsNull = true)\n",
            " |    |    |-- annotatorType: string (nullable = true)\n",
            " |    |    |-- begin: integer (nullable = false)\n",
            " |    |    |-- end: integer (nullable = false)\n",
            " |    |    |-- result: string (nullable = true)\n",
            " |    |    |-- metadata: map (nullable = true)\n",
            " |    |    |    |-- key: string\n",
            " |    |    |    |-- value: string (valueContainsNull = true)\n",
            " |    |    |-- embeddings: array (nullable = true)\n",
            " |    |    |    |-- element: float (containsNull = false)\n",
            " |-- token: array (nullable = true)\n",
            " |    |-- element: struct (containsNull = true)\n",
            " |    |    |-- annotatorType: string (nullable = true)\n",
            " |    |    |-- begin: integer (nullable = false)\n",
            " |    |    |-- end: integer (nullable = false)\n",
            " |    |    |-- result: string (nullable = true)\n",
            " |    |    |-- metadata: map (nullable = true)\n",
            " |    |    |    |-- key: string\n",
            " |    |    |    |-- value: string (valueContainsNull = true)\n",
            " |    |    |-- embeddings: array (nullable = true)\n",
            " |    |    |    |-- element: float (containsNull = false)\n",
            "\n"
          ]
        }
      ],
      "source": [
        "token_df.printSchema()"
      ]
    },
    {
      "cell_type": "markdown",
      "metadata": {
        "id": "j6dnZ4LU-ohx"
      },
      "source": [
        "## Removendo [Stopwords](https://nlp.johnsnowlabs.com/docs/en/annotators#stopwordscleaner)"
      ]
    },
    {
      "cell_type": "markdown",
      "metadata": {
        "id": "JmRy0b75GUQ4"
      },
      "source": [
        "> Esse anotador pega uma sequência de strings (por exemplo, a saída de um Tokenizer, Normalizer, Lemmatizer e Stemmer) e descarta todas as palavras de parada das sequências de entrada (tradução livre). Fonte: Documentação\n",
        "\n",
        "Por padrão utiliza as mesmas palavras de [MLlibs StopWordsRemover](https://spark.apache.org/docs/latest/ml-features#stopwordsremover)."
      ]
    },
    {
      "cell_type": "code",
      "execution_count": 29,
      "metadata": {
        "id": "LEPvGYcj-wGM"
      },
      "outputs": [],
      "source": [
        "stopwords_cleaner = StopWordsCleaner()\\\n",
        "      .setInputCols(\"token\")\\\n",
        "      .setOutputCol(\"cleanTokens\")"
      ]
    },
    {
      "cell_type": "markdown",
      "metadata": {},
      "source": [
        "Obtendo quais palavras são consideradas Stop Words:"
      ]
    },
    {
      "cell_type": "code",
      "execution_count": 30,
      "metadata": {
        "colab": {
          "base_uri": "https://localhost:8080/"
        },
        "id": "hGJU4PL1CY1W",
        "outputId": "4ea3d0b7-581e-4238-eafc-e7a0cc563b2b"
      },
      "outputs": [
        {
          "data": {
            "text/plain": [
              "['i',\n",
              " 'me',\n",
              " 'my',\n",
              " 'myself',\n",
              " 'we',\n",
              " 'our',\n",
              " 'ours',\n",
              " 'ourselves',\n",
              " 'you',\n",
              " 'your',\n",
              " 'yours',\n",
              " 'yourself',\n",
              " 'yourselves',\n",
              " 'he',\n",
              " 'him',\n",
              " 'his',\n",
              " 'himself',\n",
              " 'she',\n",
              " 'her',\n",
              " 'hers',\n",
              " 'herself',\n",
              " 'it',\n",
              " 'its',\n",
              " 'itself',\n",
              " 'they',\n",
              " 'them',\n",
              " 'their',\n",
              " 'theirs',\n",
              " 'themselves',\n",
              " 'what',\n",
              " 'which',\n",
              " 'who',\n",
              " 'whom',\n",
              " 'this',\n",
              " 'that',\n",
              " 'these',\n",
              " 'those',\n",
              " 'am',\n",
              " 'is',\n",
              " 'are',\n",
              " 'was',\n",
              " 'were',\n",
              " 'be',\n",
              " 'been',\n",
              " 'being',\n",
              " 'have',\n",
              " 'has',\n",
              " 'had',\n",
              " 'having',\n",
              " 'do',\n",
              " 'does',\n",
              " 'did',\n",
              " 'doing',\n",
              " 'a',\n",
              " 'an',\n",
              " 'the',\n",
              " 'and',\n",
              " 'but',\n",
              " 'if',\n",
              " 'or',\n",
              " 'because',\n",
              " 'as',\n",
              " 'until',\n",
              " 'while',\n",
              " 'of',\n",
              " 'at',\n",
              " 'by',\n",
              " 'for',\n",
              " 'with',\n",
              " 'about',\n",
              " 'against',\n",
              " 'between',\n",
              " 'into',\n",
              " 'through',\n",
              " 'during',\n",
              " 'before',\n",
              " 'after',\n",
              " 'above',\n",
              " 'below',\n",
              " 'to',\n",
              " 'from',\n",
              " 'up',\n",
              " 'down',\n",
              " 'in',\n",
              " 'out',\n",
              " 'on',\n",
              " 'off',\n",
              " 'over',\n",
              " 'under',\n",
              " 'again',\n",
              " 'further',\n",
              " 'then',\n",
              " 'once',\n",
              " 'here',\n",
              " 'there',\n",
              " 'when',\n",
              " 'where',\n",
              " 'why',\n",
              " 'how',\n",
              " 'all',\n",
              " 'any',\n",
              " 'both',\n",
              " 'each',\n",
              " 'few',\n",
              " 'more',\n",
              " 'most',\n",
              " 'other',\n",
              " 'some',\n",
              " 'such',\n",
              " 'no',\n",
              " 'nor',\n",
              " 'not',\n",
              " 'only',\n",
              " 'own',\n",
              " 'same',\n",
              " 'so',\n",
              " 'than',\n",
              " 'too',\n",
              " 'very',\n",
              " 's',\n",
              " 't',\n",
              " 'can',\n",
              " 'will',\n",
              " 'just',\n",
              " 'don',\n",
              " 'should',\n",
              " 'now',\n",
              " \"i'll\",\n",
              " \"you'll\",\n",
              " \"he'll\",\n",
              " \"she'll\",\n",
              " \"we'll\",\n",
              " \"they'll\",\n",
              " \"i'd\",\n",
              " \"you'd\",\n",
              " \"he'd\",\n",
              " \"she'd\",\n",
              " \"we'd\",\n",
              " \"they'd\",\n",
              " \"i'm\",\n",
              " \"you're\",\n",
              " \"he's\",\n",
              " \"she's\",\n",
              " \"it's\",\n",
              " \"we're\",\n",
              " \"they're\",\n",
              " \"i've\",\n",
              " \"we've\",\n",
              " \"you've\",\n",
              " \"they've\",\n",
              " \"isn't\",\n",
              " \"aren't\",\n",
              " \"wasn't\",\n",
              " \"weren't\",\n",
              " \"haven't\",\n",
              " \"hasn't\",\n",
              " \"hadn't\",\n",
              " \"don't\",\n",
              " \"doesn't\",\n",
              " \"didn't\",\n",
              " \"won't\",\n",
              " \"wouldn't\",\n",
              " \"shan't\",\n",
              " \"shouldn't\",\n",
              " \"mustn't\",\n",
              " \"can't\",\n",
              " \"couldn't\",\n",
              " 'cannot',\n",
              " 'could',\n",
              " \"here's\",\n",
              " \"how's\",\n",
              " \"let's\",\n",
              " 'ought',\n",
              " \"that's\",\n",
              " \"there's\",\n",
              " \"what's\",\n",
              " \"when's\",\n",
              " \"where's\",\n",
              " \"who's\",\n",
              " \"why's\",\n",
              " 'would']"
            ]
          },
          "execution_count": 30,
          "metadata": {},
          "output_type": "execute_result"
        }
      ],
      "source": [
        "stopwords_cleaner.getStopWords()"
      ]
    },
    {
      "cell_type": "code",
      "execution_count": 31,
      "metadata": {
        "colab": {
          "base_uri": "https://localhost:8080/"
        },
        "id": "6BOMYojxCuKf",
        "outputId": "4477f66e-caf6-4fa3-d23b-b105e08f7163"
      },
      "outputs": [
        {
          "name": "stdout",
          "output_type": "stream",
          "text": [
            "root\n",
            " |-- artista: string (nullable = true)\n",
            " |-- letra: string (nullable = true)\n",
            " |-- document: array (nullable = true)\n",
            " |    |-- element: struct (containsNull = true)\n",
            " |    |    |-- annotatorType: string (nullable = true)\n",
            " |    |    |-- begin: integer (nullable = false)\n",
            " |    |    |-- end: integer (nullable = false)\n",
            " |    |    |-- result: string (nullable = true)\n",
            " |    |    |-- metadata: map (nullable = true)\n",
            " |    |    |    |-- key: string\n",
            " |    |    |    |-- value: string (valueContainsNull = true)\n",
            " |    |    |-- embeddings: array (nullable = true)\n",
            " |    |    |    |-- element: float (containsNull = false)\n",
            " |-- token: array (nullable = true)\n",
            " |    |-- element: struct (containsNull = true)\n",
            " |    |    |-- annotatorType: string (nullable = true)\n",
            " |    |    |-- begin: integer (nullable = false)\n",
            " |    |    |-- end: integer (nullable = false)\n",
            " |    |    |-- result: string (nullable = true)\n",
            " |    |    |-- metadata: map (nullable = true)\n",
            " |    |    |    |-- key: string\n",
            " |    |    |    |-- value: string (valueContainsNull = true)\n",
            " |    |    |-- embeddings: array (nullable = true)\n",
            " |    |    |    |-- element: float (containsNull = false)\n",
            " |-- cleanTokens: array (nullable = true)\n",
            " |    |-- element: struct (containsNull = true)\n",
            " |    |    |-- annotatorType: string (nullable = true)\n",
            " |    |    |-- begin: integer (nullable = false)\n",
            " |    |    |-- end: integer (nullable = false)\n",
            " |    |    |-- result: string (nullable = true)\n",
            " |    |    |-- metadata: map (nullable = true)\n",
            " |    |    |    |-- key: string\n",
            " |    |    |    |-- value: string (valueContainsNull = true)\n",
            " |    |    |-- embeddings: array (nullable = true)\n",
            " |    |    |    |-- element: float (containsNull = false)\n",
            "\n"
          ]
        }
      ],
      "source": [
        "token_df_clean = stopwords_cleaner.transform(token_df)\n",
        "token_df_clean.printSchema()"
      ]
    },
    {
      "cell_type": "code",
      "execution_count": 32,
      "metadata": {
        "colab": {
          "base_uri": "https://localhost:8080/"
        },
        "id": "dnObJ6PgFrb-",
        "outputId": "1bb711b5-6c82-4ef3-8e02-5821eae3fa4c"
      },
      "outputs": [
        {
          "name": "stdout",
          "output_type": "stream",
          "text": [
            "+--------------------------------------------------------------------------------------------------------------------------+\n",
            "|result                                                                                                                    |\n",
            "+--------------------------------------------------------------------------------------------------------------------------+\n",
            "|[places, remember, life, though, changed, forever, ,, better, gone, remain]                                               |\n",
            "|[start, revolution, bed, Cause, said, brains, went, head, Step, outside, ,, summertime's, bloom, Stand, beside, fireplace]|\n",
            "|[wish, two, lost, soul, Swimming, fish, bowl, year, year, Running, old, ground]                                           |\n",
            "+--------------------------------------------------------------------------------------------------------------------------+\n",
            "\n"
          ]
        }
      ],
      "source": [
        "token_df_clean.select(\"cleanTokens.result\").show(truncate=False)"
      ]
    },
    {
      "cell_type": "markdown",
      "metadata": {
        "id": "9FhCusPbH1vR"
      },
      "source": [
        "## [Stemmer](https://nlp.johnsnowlabs.com/docs/en/annotators#stemmer)"
      ]
    },
    {
      "cell_type": "markdown",
      "metadata": {},
      "source": [
        "O stemmer fará a substituição das palavras pelo significado raiz. Por exemplo, changing, changed, change seriam substituidas pela palavra chang, pois todas possuem essa palavra raiz. \n"
      ]
    },
    {
      "cell_type": "code",
      "execution_count": 33,
      "metadata": {
        "colab": {
          "base_uri": "https://localhost:8080/"
        },
        "id": "LCjIuNnmItDk",
        "outputId": "2d0153ba-21c7-4d55-b1fc-dbe13e46a738"
      },
      "outputs": [
        {
          "name": "stdout",
          "output_type": "stream",
          "text": [
            "root\n",
            " |-- artista: string (nullable = true)\n",
            " |-- letra: string (nullable = true)\n",
            " |-- document: array (nullable = true)\n",
            " |    |-- element: struct (containsNull = true)\n",
            " |    |    |-- annotatorType: string (nullable = true)\n",
            " |    |    |-- begin: integer (nullable = false)\n",
            " |    |    |-- end: integer (nullable = false)\n",
            " |    |    |-- result: string (nullable = true)\n",
            " |    |    |-- metadata: map (nullable = true)\n",
            " |    |    |    |-- key: string\n",
            " |    |    |    |-- value: string (valueContainsNull = true)\n",
            " |    |    |-- embeddings: array (nullable = true)\n",
            " |    |    |    |-- element: float (containsNull = false)\n",
            " |-- token: array (nullable = true)\n",
            " |    |-- element: struct (containsNull = true)\n",
            " |    |    |-- annotatorType: string (nullable = true)\n",
            " |    |    |-- begin: integer (nullable = false)\n",
            " |    |    |-- end: integer (nullable = false)\n",
            " |    |    |-- result: string (nullable = true)\n",
            " |    |    |-- metadata: map (nullable = true)\n",
            " |    |    |    |-- key: string\n",
            " |    |    |    |-- value: string (valueContainsNull = true)\n",
            " |    |    |-- embeddings: array (nullable = true)\n",
            " |    |    |    |-- element: float (containsNull = false)\n",
            " |-- cleanTokens: array (nullable = true)\n",
            " |    |-- element: struct (containsNull = true)\n",
            " |    |    |-- annotatorType: string (nullable = true)\n",
            " |    |    |-- begin: integer (nullable = false)\n",
            " |    |    |-- end: integer (nullable = false)\n",
            " |    |    |-- result: string (nullable = true)\n",
            " |    |    |-- metadata: map (nullable = true)\n",
            " |    |    |    |-- key: string\n",
            " |    |    |    |-- value: string (valueContainsNull = true)\n",
            " |    |    |-- embeddings: array (nullable = true)\n",
            " |    |    |    |-- element: float (containsNull = false)\n",
            " |-- stem: array (nullable = true)\n",
            " |    |-- element: struct (containsNull = true)\n",
            " |    |    |-- annotatorType: string (nullable = true)\n",
            " |    |    |-- begin: integer (nullable = false)\n",
            " |    |    |-- end: integer (nullable = false)\n",
            " |    |    |-- result: string (nullable = true)\n",
            " |    |    |-- metadata: map (nullable = true)\n",
            " |    |    |    |-- key: string\n",
            " |    |    |    |-- value: string (valueContainsNull = true)\n",
            " |    |    |-- embeddings: array (nullable = true)\n",
            " |    |    |    |-- element: float (containsNull = false)\n",
            "\n"
          ]
        }
      ],
      "source": [
        "stemmer = Stemmer() \\\n",
        "    .setInputCols([\"cleanTokens\"]) \\\n",
        "    .setOutputCol(\"stem\")\n",
        "\n",
        "stem = stemmer.transform(token_df_clean)\n",
        "stem.printSchema()"
      ]
    },
    {
      "cell_type": "code",
      "execution_count": 34,
      "metadata": {
        "colab": {
          "base_uri": "https://localhost:8080/"
        },
        "id": "pYOfI1VBJPh6",
        "outputId": "e29f0a96-9bfb-466b-8b95-f1ebdcf97f4a"
      },
      "outputs": [
        {
          "name": "stdout",
          "output_type": "stream",
          "text": [
            "+-----------------------------------------------------------------------------------------------------------------+\n",
            "|result                                                                                                           |\n",
            "+-----------------------------------------------------------------------------------------------------------------+\n",
            "|[place, rememb, life, though, chang, forev, ,, better, gone, remain]                                             |\n",
            "|[start, revolut, bed, caus, said, brain, went, head, step, outsid, ,, summertime', bloom, stand, besid, fireplac]|\n",
            "|[wish, two, lost, soul, swim, fish, bowl, year, year, run, old, ground]                                          |\n",
            "+-----------------------------------------------------------------------------------------------------------------+\n",
            "\n"
          ]
        }
      ],
      "source": [
        "stem.select(\"stem.result\").show(truncate=False)"
      ]
    },
    {
      "cell_type": "markdown",
      "metadata": {
        "id": "0BGygstuQEyc"
      },
      "source": [
        "## [Lemmatizer](https://nlp.johnsnowlabs.com/docs/en/annotators#lemmatizer)"
      ]
    },
    {
      "cell_type": "markdown",
      "metadata": {},
      "source": [
        "É uma técnica que também faz a redução da palavra, porém leva em consideração a análise morfológica, geralmente visa remover os sufixos garantindo que a palavra reduzida sempre existirá no vocabulário. Vamos fazer uso de um modelo pré-treinado do Spark NLP que já possui o dicionário em inglês que precisamos"
      ]
    },
    {
      "cell_type": "code",
      "execution_count": 35,
      "metadata": {
        "colab": {
          "base_uri": "https://localhost:8080/"
        },
        "id": "eHt2gAyhPnut",
        "outputId": "72d6a34d-c5cd-408d-954c-41c1f3ba2531"
      },
      "outputs": [
        {
          "name": "stdout",
          "output_type": "stream",
          "text": [
            "lemma_antbnc download started this may take some time.\n",
            "Approximate size to download 907,6 KB\n",
            "[ | ]lemma_antbnc download started this may take some time.\n",
            "Approximate size to download 907,6 KB\n",
            "[ / ]Download done! Loading the resource.\n",
            "[OK!]\n"
          ]
        }
      ],
      "source": [
        "lemmatizer = LemmatizerModel.pretrained() \\\n",
        "              .setInputCols([\"cleanTokens\"]) \\\n",
        "              .setOutputCol(\"lemma\")"
      ]
    },
    {
      "cell_type": "code",
      "execution_count": 36,
      "metadata": {
        "id": "VWIOknhfQuTk"
      },
      "outputs": [],
      "source": [
        "result = lemmatizer.transform(stem)"
      ]
    },
    {
      "cell_type": "code",
      "execution_count": 37,
      "metadata": {
        "colab": {
          "base_uri": "https://localhost:8080/"
        },
        "id": "WpNF83ZFQ06P",
        "outputId": "4b34792d-6b5d-4d90-80b8-fa5233a82b06"
      },
      "outputs": [
        {
          "name": "stdout",
          "output_type": "stream",
          "text": [
            "root\n",
            " |-- artista: string (nullable = true)\n",
            " |-- letra: string (nullable = true)\n",
            " |-- document: array (nullable = true)\n",
            " |    |-- element: struct (containsNull = true)\n",
            " |    |    |-- annotatorType: string (nullable = true)\n",
            " |    |    |-- begin: integer (nullable = false)\n",
            " |    |    |-- end: integer (nullable = false)\n",
            " |    |    |-- result: string (nullable = true)\n",
            " |    |    |-- metadata: map (nullable = true)\n",
            " |    |    |    |-- key: string\n",
            " |    |    |    |-- value: string (valueContainsNull = true)\n",
            " |    |    |-- embeddings: array (nullable = true)\n",
            " |    |    |    |-- element: float (containsNull = false)\n",
            " |-- token: array (nullable = true)\n",
            " |    |-- element: struct (containsNull = true)\n",
            " |    |    |-- annotatorType: string (nullable = true)\n",
            " |    |    |-- begin: integer (nullable = false)\n",
            " |    |    |-- end: integer (nullable = false)\n",
            " |    |    |-- result: string (nullable = true)\n",
            " |    |    |-- metadata: map (nullable = true)\n",
            " |    |    |    |-- key: string\n",
            " |    |    |    |-- value: string (valueContainsNull = true)\n",
            " |    |    |-- embeddings: array (nullable = true)\n",
            " |    |    |    |-- element: float (containsNull = false)\n",
            " |-- cleanTokens: array (nullable = true)\n",
            " |    |-- element: struct (containsNull = true)\n",
            " |    |    |-- annotatorType: string (nullable = true)\n",
            " |    |    |-- begin: integer (nullable = false)\n",
            " |    |    |-- end: integer (nullable = false)\n",
            " |    |    |-- result: string (nullable = true)\n",
            " |    |    |-- metadata: map (nullable = true)\n",
            " |    |    |    |-- key: string\n",
            " |    |    |    |-- value: string (valueContainsNull = true)\n",
            " |    |    |-- embeddings: array (nullable = true)\n",
            " |    |    |    |-- element: float (containsNull = false)\n",
            " |-- stem: array (nullable = true)\n",
            " |    |-- element: struct (containsNull = true)\n",
            " |    |    |-- annotatorType: string (nullable = true)\n",
            " |    |    |-- begin: integer (nullable = false)\n",
            " |    |    |-- end: integer (nullable = false)\n",
            " |    |    |-- result: string (nullable = true)\n",
            " |    |    |-- metadata: map (nullable = true)\n",
            " |    |    |    |-- key: string\n",
            " |    |    |    |-- value: string (valueContainsNull = true)\n",
            " |    |    |-- embeddings: array (nullable = true)\n",
            " |    |    |    |-- element: float (containsNull = false)\n",
            " |-- lemma: array (nullable = true)\n",
            " |    |-- element: struct (containsNull = true)\n",
            " |    |    |-- annotatorType: string (nullable = true)\n",
            " |    |    |-- begin: integer (nullable = false)\n",
            " |    |    |-- end: integer (nullable = false)\n",
            " |    |    |-- result: string (nullable = true)\n",
            " |    |    |-- metadata: map (nullable = true)\n",
            " |    |    |    |-- key: string\n",
            " |    |    |    |-- value: string (valueContainsNull = true)\n",
            " |    |    |-- embeddings: array (nullable = true)\n",
            " |    |    |    |-- element: float (containsNull = false)\n",
            "\n"
          ]
        }
      ],
      "source": [
        "result.printSchema()"
      ]
    },
    {
      "cell_type": "code",
      "execution_count": 38,
      "metadata": {
        "colab": {
          "base_uri": "https://localhost:8080/"
        },
        "id": "TQYd9mtcQ5bD",
        "outputId": "0e57d8d3-57ca-409f-caa8-b4b91940893c"
      },
      "outputs": [
        {
          "name": "stdout",
          "output_type": "stream",
          "text": [
            "+----------------------------------------------------------------------------------------------------------------------+\n",
            "|result                                                                                                                |\n",
            "+----------------------------------------------------------------------------------------------------------------------+\n",
            "|[place, remember, life, though, change, forever, ,, well, go, remain]                                                 |\n",
            "|[start, revolution, bed, Cause, say, brain, go, head, Step, outside, ,, summertime's, bloom, Stand, beside, fireplace]|\n",
            "|[wish, two, lose, soul, Swimming, fish, bowl, year, year, Running, old, ground]                                       |\n",
            "+----------------------------------------------------------------------------------------------------------------------+\n",
            "\n"
          ]
        }
      ],
      "source": [
        "result.select(\"lemma.result\").show(truncate=False)"
      ]
    },
    {
      "cell_type": "code",
      "execution_count": 39,
      "metadata": {
        "colab": {
          "base_uri": "https://localhost:8080/",
          "height": 363
        },
        "id": "g1_2kLwW6DF7",
        "outputId": "e0c9858f-ab1c-40eb-b6b0-011cf89daa56"
      },
      "outputs": [
        {
          "name": "stdout",
          "output_type": "stream",
          "text": [
            "Comparação entre stemmer e lemmatizer:\n"
          ]
        },
        {
          "data": {
            "text/html": [
              "<div>\n",
              "<style scoped>\n",
              "    .dataframe tbody tr th:only-of-type {\n",
              "        vertical-align: middle;\n",
              "    }\n",
              "\n",
              "    .dataframe tbody tr th {\n",
              "        vertical-align: top;\n",
              "    }\n",
              "\n",
              "    .dataframe thead th {\n",
              "        text-align: right;\n",
              "    }\n",
              "</style>\n",
              "<table border=\"1\" class=\"dataframe\">\n",
              "  <thead>\n",
              "    <tr style=\"text-align: right;\">\n",
              "      <th></th>\n",
              "      <th>token</th>\n",
              "      <th>stem</th>\n",
              "      <th>lemma</th>\n",
              "    </tr>\n",
              "  </thead>\n",
              "  <tbody>\n",
              "    <tr>\n",
              "      <th>0</th>\n",
              "      <td>There</td>\n",
              "      <td>place</td>\n",
              "      <td>place</td>\n",
              "    </tr>\n",
              "    <tr>\n",
              "      <th>1</th>\n",
              "      <td>are</td>\n",
              "      <td>rememb</td>\n",
              "      <td>remember</td>\n",
              "    </tr>\n",
              "    <tr>\n",
              "      <th>2</th>\n",
              "      <td>places</td>\n",
              "      <td>life</td>\n",
              "      <td>life</td>\n",
              "    </tr>\n",
              "    <tr>\n",
              "      <th>3</th>\n",
              "      <td>I'll</td>\n",
              "      <td>though</td>\n",
              "      <td>though</td>\n",
              "    </tr>\n",
              "    <tr>\n",
              "      <th>4</th>\n",
              "      <td>remember</td>\n",
              "      <td>chang</td>\n",
              "      <td>change</td>\n",
              "    </tr>\n",
              "    <tr>\n",
              "      <th>5</th>\n",
              "      <td>All</td>\n",
              "      <td>forev</td>\n",
              "      <td>forever</td>\n",
              "    </tr>\n",
              "    <tr>\n",
              "      <th>6</th>\n",
              "      <td>my</td>\n",
              "      <td>,</td>\n",
              "      <td>,</td>\n",
              "    </tr>\n",
              "    <tr>\n",
              "      <th>7</th>\n",
              "      <td>life</td>\n",
              "      <td>better</td>\n",
              "      <td>well</td>\n",
              "    </tr>\n",
              "    <tr>\n",
              "      <th>8</th>\n",
              "      <td>though</td>\n",
              "      <td>gone</td>\n",
              "      <td>go</td>\n",
              "    </tr>\n",
              "    <tr>\n",
              "      <th>9</th>\n",
              "      <td>some</td>\n",
              "      <td>remain</td>\n",
              "      <td>remain</td>\n",
              "    </tr>\n",
              "  </tbody>\n",
              "</table>\n",
              "</div>"
            ],
            "text/plain": [
              "      token    stem     lemma\n",
              "0     There   place     place\n",
              "1       are  rememb  remember\n",
              "2    places    life      life\n",
              "3      I'll  though    though\n",
              "4  remember   chang    change\n",
              "5       All   forev   forever\n",
              "6        my       ,         ,\n",
              "7      life  better      well\n",
              "8    though    gone        go\n",
              "9      some  remain    remain"
            ]
          },
          "execution_count": 39,
          "metadata": {},
          "output_type": "execute_result"
        }
      ],
      "source": [
        "import pyspark.sql.functions as F\n",
        "\n",
        "result_df = result.select(F.explode(F.arrays_zip(result.token.result, result.stem.result, result.lemma.result)).alias(\"cols\")) \\\n",
        "                  .select(F.expr(\"cols['0']\").alias(\"token\"),\n",
        "                          F.expr(\"cols['1']\").alias(\"stem\"),\n",
        "                          F.expr(\"cols['2']\").alias(\"lemma\")).toPandas()\n",
        "\n",
        "print(\"Comparação entre stemmer e lemmatizer:\")\n",
        "result_df.head(10)"
      ]
    },
    {
      "cell_type": "markdown",
      "metadata": {
        "id": "TjmJkFNBMZ1t"
      },
      "source": [
        "## Extra: criando o pipeline"
      ]
    },
    {
      "cell_type": "markdown",
      "metadata": {},
      "source": [
        "Uma ótima prática é colocar todos os passos adotados realizados até agora em um pipeline. Para fazer isso vamos utilizar o método [`pipeline`](https://spark.apache.org/docs/latest/api/python/reference/api/pyspark.ml.Pipeline.html) do MLlib."
      ]
    },
    {
      "cell_type": "code",
      "execution_count": 40,
      "metadata": {
        "id": "fLYQ5myDNolJ"
      },
      "outputs": [],
      "source": [
        "from pyspark.ml import Pipeline"
      ]
    },
    {
      "cell_type": "markdown",
      "metadata": {},
      "source": [
        "Finisher converte tokens em saída legível por humanos"
      ]
    },
    {
      "cell_type": "code",
      "execution_count": 46,
      "metadata": {},
      "outputs": [],
      "source": [
        "from sparknlp.base import Finisher\n",
        "\n",
        "finisher = Finisher() \\\n",
        "     .setInputCols(['stem'])"
      ]
    },
    {
      "cell_type": "markdown",
      "metadata": {},
      "source": [
        "No pipeline optamos por utilizar o **stemmer** ao invés do **lemmatizer**, mas você pode usá-lo sem problemas."
      ]
    },
    {
      "cell_type": "code",
      "execution_count": 49,
      "metadata": {},
      "outputs": [],
      "source": [
        "pipeline = Pipeline(stages=[\n",
        "      document_assembler,\n",
        "      tokenizer,\n",
        "      stopwords_cleaner,\n",
        "      stemmer,\n",
        "      finisher\n",
        "])"
      ]
    },
    {
      "cell_type": "code",
      "execution_count": 50,
      "metadata": {
        "colab": {
          "base_uri": "https://localhost:8080/"
        },
        "id": "NVonv63ZOGri",
        "outputId": "2e4085e1-c36a-4005-e56b-c9ae37df4386"
      },
      "outputs": [
        {
          "name": "stdout",
          "output_type": "stream",
          "text": [
            "+-----------+-----------------------------------------------------------------------------------------------------------------------------------------------------+-----------------------------------------------------------------------------------------------------------------+\n",
            "|artista    |letra                                                                                                                                                |finished_stem                                                                                                    |\n",
            "+-----------+-----------------------------------------------------------------------------------------------------------------------------------------------------+-----------------------------------------------------------------------------------------------------------------+\n",
            "|The Beatles|There are places I'll remember All my life though some have changed Some forever, not for better Some have gone and some remain                      |[place, rememb, life, though, chang, forev, ,, better, gone, remain]                                             |\n",
            "|Oasis      |So I start a revolution from my bed Cause you said the brains I had went to my head Step outside, summertime's in bloom Stand up beside the fireplace|[start, revolut, bed, caus, said, brain, went, head, step, outsid, ,, summertime', bloom, stand, besid, fireplac]|\n",
            "|Pink Floyd |How I wish you were here We're just two lost soul Swimming in a fish bowl year after year Running over the same old ground                           |[wish, two, lost, soul, swim, fish, bowl, year, year, run, old, ground]                                          |\n",
            "+-----------+-----------------------------------------------------------------------------------------------------------------------------------------------------+-----------------------------------------------------------------------------------------------------------------+\n",
            "\n"
          ]
        }
      ],
      "source": [
        "pipe = pipeline.fit(df_musica).transform(df_musica)\n",
        "pipe.show(truncate=False)"
      ]
    },
    {
      "cell_type": "markdown",
      "metadata": {},
      "source": [
        "A `finished_stem` é o resultado do stemmer, resultado final do pipeline."
      ]
    }
  ],
  "metadata": {
    "colab": {
      "collapsed_sections": [
        "j6dnZ4LU-ohx"
      ],
      "name": "Artigo: Spark NLP (John Snow LABS).ipynb",
      "provenance": []
    },
    "kernelspec": {
      "display_name": "Python 3.9.12 ('ds-conda')",
      "language": "python",
      "name": "python3"
    },
    "language_info": {
      "codemirror_mode": {
        "name": "ipython",
        "version": 3
      },
      "file_extension": ".py",
      "mimetype": "text/x-python",
      "name": "python",
      "nbconvert_exporter": "python",
      "pygments_lexer": "ipython3",
      "version": "3.9.12"
    },
    "vscode": {
      "interpreter": {
        "hash": "f376ac459482aba7b305c50f2067a782822cb4387569295007fcf226aacd147b"
      }
    }
  },
  "nbformat": 4,
  "nbformat_minor": 0
}
